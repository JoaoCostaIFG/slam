{
 "cells": [
  {
   "cell_type": "markdown",
   "id": "ce298ae9-f95b-4da9-ab31-03bc7b3b4fbc",
   "metadata": {},
   "source": [
    "# 1st module"
   ]
  },
  {
   "cell_type": "markdown",
   "id": "6cc555af-041a-4713-9de6-9fe5f4a5096f",
   "metadata": {},
   "source": [
    "Load the dataset mat file."
   ]
  },
  {
   "cell_type": "code",
   "execution_count": 132,
   "id": "23d8dd2a-5c6f-4d44-89be-c5ab9fe4b99e",
   "metadata": {},
   "outputs": [
    {
     "data": {
      "text/plain": [
       "dict_keys(['__header__', '__version__', '__globals__', 'parsedData'])"
      ]
     },
     "execution_count": 132,
     "metadata": {},
     "output_type": "execute_result"
    }
   ],
   "source": [
    "import pandas as pd\n",
    "%matplotlib inline\n",
    "import matplotlib.pyplot as plt\n",
    "import scipy.io as sio\n",
    "import seaborn as sb\n",
    "\n",
    "dataset_fname = \"datasets/dataset_static.mat\"\n",
    "\n",
    "mat_contents = sio.loadmat(dataset_fname)\n",
    "mat_contents.keys()"
   ]
  },
  {
   "cell_type": "markdown",
   "id": "b041cc55-f409-4cf7-83f9-5d39418f637e",
   "metadata": {},
   "source": [
    "The data is on the mat file variable. In this case: `parsedData`."
   ]
  },
  {
   "cell_type": "code",
   "execution_count": 133,
   "id": "762cd969-cd0e-4700-aed7-7e7ea53dfe0d",
   "metadata": {},
   "outputs": [
    {
     "data": {
      "text/plain": [
       "dict_keys(['time', 'angle', 'step_dist', 'intensities'])"
      ]
     },
     "execution_count": 133,
     "metadata": {},
     "output_type": "execute_result"
    }
   ],
   "source": [
    "mat_var = \"parsedData\"\n",
    "\n",
    "mdata = mat_contents[mat_var]\n",
    "data = dict()\n",
    "for col in mdata.dtype.names:\n",
    "    mdata_col = mdata[col][0]\n",
    "    # probe first col element to find if it's a dumb single item array (loving it)\n",
    "    is_single_elem = len(mdata_col[0][0]) == 1\n",
    "    data[col] = [d[0][0] if is_single_elem else d[0] for d in mdata_col]\n",
    "data.keys()"
   ]
  },
  {
   "cell_type": "markdown",
   "id": "5d634e3c-07dd-4e8d-8226-b1a2f5a642b0",
   "metadata": {},
   "source": [
    "We'll build a dataframe because they're cool."
   ]
  },
  {
   "cell_type": "code",
   "execution_count": 135,
   "id": "c6c06562-1d0d-4832-abbd-e3e689c29e44",
   "metadata": {},
   "outputs": [
    {
     "data": {
      "text/html": [
       "<div>\n",
       "<style scoped>\n",
       "    .dataframe tbody tr th:only-of-type {\n",
       "        vertical-align: middle;\n",
       "    }\n",
       "\n",
       "    .dataframe tbody tr th {\n",
       "        vertical-align: top;\n",
       "    }\n",
       "\n",
       "    .dataframe thead th {\n",
       "        text-align: right;\n",
       "    }\n",
       "</style>\n",
       "<table border=\"1\" class=\"dataframe\">\n",
       "  <thead>\n",
       "    <tr style=\"text-align: right;\">\n",
       "      <th></th>\n",
       "      <th>time</th>\n",
       "      <th>angle</th>\n",
       "      <th>step_dist</th>\n",
       "      <th>intensities</th>\n",
       "    </tr>\n",
       "  </thead>\n",
       "  <tbody>\n",
       "    <tr>\n",
       "      <th>0</th>\n",
       "      <td>10.280058</td>\n",
       "      <td>180.000000</td>\n",
       "      <td>0.012531</td>\n",
       "      <td>[0, 0, 0, 0, 43, 68, 90, 106, 111, 108, 100, 9...</td>\n",
       "    </tr>\n",
       "    <tr>\n",
       "      <th>1</th>\n",
       "      <td>10.321921</td>\n",
       "      <td>181.800003</td>\n",
       "      <td>0.012531</td>\n",
       "      <td>[0, 0, 0, 17, 51, 73, 87, 106, 116, 117, 92, 9...</td>\n",
       "    </tr>\n",
       "    <tr>\n",
       "      <th>2</th>\n",
       "      <td>10.364880</td>\n",
       "      <td>183.600006</td>\n",
       "      <td>0.012531</td>\n",
       "      <td>[0, 0, 0, 11, 43, 63, 84, 106, 119, 119, 103, ...</td>\n",
       "    </tr>\n",
       "    <tr>\n",
       "      <th>3</th>\n",
       "      <td>10.408035</td>\n",
       "      <td>185.399994</td>\n",
       "      <td>0.012531</td>\n",
       "      <td>[0, 0, 0, 0, 55, 76, 94, 108, 113, 113, 100, 1...</td>\n",
       "    </tr>\n",
       "    <tr>\n",
       "      <th>4</th>\n",
       "      <td>10.451024</td>\n",
       "      <td>187.199997</td>\n",
       "      <td>0.012531</td>\n",
       "      <td>[0, 0, 0, 15, 44, 63, 78, 102, 113, 113, 109, ...</td>\n",
       "    </tr>\n",
       "  </tbody>\n",
       "</table>\n",
       "</div>"
      ],
      "text/plain": [
       "        time       angle  step_dist  \\\n",
       "0  10.280058  180.000000   0.012531   \n",
       "1  10.321921  181.800003   0.012531   \n",
       "2  10.364880  183.600006   0.012531   \n",
       "3  10.408035  185.399994   0.012531   \n",
       "4  10.451024  187.199997   0.012531   \n",
       "\n",
       "                                         intensities  \n",
       "0  [0, 0, 0, 0, 43, 68, 90, 106, 111, 108, 100, 9...  \n",
       "1  [0, 0, 0, 17, 51, 73, 87, 106, 116, 117, 92, 9...  \n",
       "2  [0, 0, 0, 11, 43, 63, 84, 106, 119, 119, 103, ...  \n",
       "3  [0, 0, 0, 0, 55, 76, 94, 108, 113, 113, 100, 1...  \n",
       "4  [0, 0, 0, 15, 44, 63, 78, 102, 113, 113, 109, ...  "
      ]
     },
     "execution_count": 135,
     "metadata": {},
     "output_type": "execute_result"
    }
   ],
   "source": [
    "df = pd.DataFrame(data)\n",
    "df.head()"
   ]
  },
  {
   "cell_type": "code",
   "execution_count": 141,
   "id": "93ee5b6c-08b4-45f3-ade2-0aea281c5b4a",
   "metadata": {},
   "outputs": [
    {
     "data": {
      "image/png": "[encoded data removed]",
      "text/plain": [
       "<Figure size 432x576 with 1 Axes>"
      ]
     },
     "metadata": {
      "needs_background": "light"
     },
     "output_type": "display_data"
    }
   ],
   "source": [
    "plt.figure(figsize=(6.0, 8.0))\n",
    "sb.scatterplot(data=df, x=\"angle\", y=\"time\");"
   ]
  },
  {
   "cell_type": "code",
   "execution_count": null,
   "id": "0980511f-cb1e-4605-af0d-64f2be696e31",
   "metadata": {},
   "outputs": [],
   "source": []
  }
 ],
 "metadata": {
  "kernelspec": {
   "display_name": "Python 3 (ipykernel)",
   "language": "python",
   "name": "python3"
  },
  "language_info": {
   "codemirror_mode": {
    "name": "ipython",
    "version": 3
   },
   "file_extension": ".py",
   "mimetype": "text/x-python",
   "name": "python",
   "nbconvert_exporter": "python",
   "pygments_lexer": "ipython3",
   "version": "3.10.2"
  }
 },
 "nbformat": 4,
 "nbformat_minor": 5
}
