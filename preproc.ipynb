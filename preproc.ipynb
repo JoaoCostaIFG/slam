{
 "cells": [
  {
   "cell_type": "markdown",
   "id": "ce298ae9-f95b-4da9-ab31-03bc7b3b4fbc",
   "metadata": {},
   "source": [
    "# 1st module"
   ]
  },
  {
   "cell_type": "markdown",
   "id": "83ccab48-5916-4959-afd1-ed79dbf72241",
   "metadata": {},
   "source": [
    "## Load the dataset"
   ]
  },
  {
   "cell_type": "markdown",
   "id": "6cc555af-041a-4713-9de6-9fe5f4a5096f",
   "metadata": {},
   "source": [
    "Load the dataset mat file."
   ]
  },
  {
   "cell_type": "code",
   "execution_count": 1,
   "id": "23d8dd2a-5c6f-4d44-89be-c5ab9fe4b99e",
   "metadata": {},
   "outputs": [
    {
     "data": {
      "text/plain": [
       "dict_keys(['__header__', '__version__', '__globals__', 'parsedData'])"
      ]
     },
     "execution_count": 1,
     "metadata": {},
     "output_type": "execute_result"
    }
   ],
   "source": [
    "import pandas as pd\n",
    "import numpy as np\n",
    "%matplotlib inline\n",
    "import matplotlib.pyplot as plt\n",
    "import scipy.io as sio\n",
    "import seaborn as sb\n",
    "\n",
    "dataset_fname = \"datasets/dataset_static.mat\"\n",
    "\n",
    "mat_contents = sio.loadmat(dataset_fname)\n",
    "mat_contents.keys()"
   ]
  },
  {
   "cell_type": "markdown",
   "id": "b041cc55-f409-4cf7-83f9-5d39418f637e",
   "metadata": {},
   "source": [
    "The data is on the mat file variable. In this case: `parsedData`."
   ]
  },
  {
   "cell_type": "code",
   "execution_count": 2,
   "id": "762cd969-cd0e-4700-aed7-7e7ea53dfe0d",
   "metadata": {},
   "outputs": [
    {
     "data": {
      "text/plain": [
       "dict_keys(['time', 'angle', 'step_dist', 'intensities'])"
      ]
     },
     "execution_count": 2,
     "metadata": {},
     "output_type": "execute_result"
    }
   ],
   "source": [
    "mat_var = \"parsedData\"\n",
    "\n",
    "mdata = mat_contents[mat_var]\n",
    "data = dict()\n",
    "for col in mdata.dtype.names:\n",
    "    mdata_col = mdata[col][0]\n",
    "    # probe first col element to find if it's a dumb single item array (loving it)\n",
    "    is_single_elem = len(mdata_col[0][0]) == 1\n",
    "    data[col] = [d[0][0] if is_single_elem else d[0].tolist() for d in mdata_col]\n",
    "\n",
    "data.keys()"
   ]
  },
  {
   "cell_type": "markdown",
   "id": "5d634e3c-07dd-4e8d-8226-b1a2f5a642b0",
   "metadata": {},
   "source": [
    "We'll build a dataframe because they're cool."
   ]
  },
  {
   "cell_type": "code",
   "execution_count": 3,
   "id": "c6c06562-1d0d-4832-abbd-e3e689c29e44",
   "metadata": {},
   "outputs": [
    {
     "data": {
      "text/html": [
       "<div>\n",
       "<style scoped>\n",
       "    .dataframe tbody tr th:only-of-type {\n",
       "        vertical-align: middle;\n",
       "    }\n",
       "\n",
       "    .dataframe tbody tr th {\n",
       "        vertical-align: top;\n",
       "    }\n",
       "\n",
       "    .dataframe thead th {\n",
       "        text-align: right;\n",
       "    }\n",
       "</style>\n",
       "<table border=\"1\" class=\"dataframe\">\n",
       "  <thead>\n",
       "    <tr style=\"text-align: right;\">\n",
       "      <th></th>\n",
       "      <th>time</th>\n",
       "      <th>angle</th>\n",
       "      <th>step_dist</th>\n",
       "      <th>intensities</th>\n",
       "    </tr>\n",
       "  </thead>\n",
       "  <tbody>\n",
       "    <tr>\n",
       "      <th>0</th>\n",
       "      <td>10.280058</td>\n",
       "      <td>180.000000</td>\n",
       "      <td>0.012531</td>\n",
       "      <td>[0, 0, 0, 0, 43, 68, 90, 106, 111, 108, 100, 9...</td>\n",
       "    </tr>\n",
       "    <tr>\n",
       "      <th>1</th>\n",
       "      <td>10.321921</td>\n",
       "      <td>181.800003</td>\n",
       "      <td>0.012531</td>\n",
       "      <td>[0, 0, 0, 17, 51, 73, 87, 106, 116, 117, 92, 9...</td>\n",
       "    </tr>\n",
       "    <tr>\n",
       "      <th>2</th>\n",
       "      <td>10.364880</td>\n",
       "      <td>183.600006</td>\n",
       "      <td>0.012531</td>\n",
       "      <td>[0, 0, 0, 11, 43, 63, 84, 106, 119, 119, 103, ...</td>\n",
       "    </tr>\n",
       "    <tr>\n",
       "      <th>3</th>\n",
       "      <td>10.408035</td>\n",
       "      <td>185.399994</td>\n",
       "      <td>0.012531</td>\n",
       "      <td>[0, 0, 0, 0, 55, 76, 94, 108, 113, 113, 100, 1...</td>\n",
       "    </tr>\n",
       "    <tr>\n",
       "      <th>4</th>\n",
       "      <td>10.451024</td>\n",
       "      <td>187.199997</td>\n",
       "      <td>0.012531</td>\n",
       "      <td>[0, 0, 0, 15, 44, 63, 78, 102, 113, 113, 109, ...</td>\n",
       "    </tr>\n",
       "  </tbody>\n",
       "</table>\n",
       "</div>"
      ],
      "text/plain": [
       "        time       angle  step_dist  \\\n",
       "0  10.280058  180.000000   0.012531   \n",
       "1  10.321921  181.800003   0.012531   \n",
       "2  10.364880  183.600006   0.012531   \n",
       "3  10.408035  185.399994   0.012531   \n",
       "4  10.451024  187.199997   0.012531   \n",
       "\n",
       "                                         intensities  \n",
       "0  [0, 0, 0, 0, 43, 68, 90, 106, 111, 108, 100, 9...  \n",
       "1  [0, 0, 0, 17, 51, 73, 87, 106, 116, 117, 92, 9...  \n",
       "2  [0, 0, 0, 11, 43, 63, 84, 106, 119, 119, 103, ...  \n",
       "3  [0, 0, 0, 0, 55, 76, 94, 108, 113, 113, 100, 1...  \n",
       "4  [0, 0, 0, 15, 44, 63, 78, 102, 113, 113, 109, ...  "
      ]
     },
     "execution_count": 3,
     "metadata": {},
     "output_type": "execute_result"
    }
   ],
   "source": [
    "df = pd.DataFrame(data)\n",
    "df.head()"
   ]
  },
  {
   "cell_type": "code",
   "execution_count": 4,
   "id": "93ee5b6c-08b4-45f3-ade2-0aea281c5b4a",
   "metadata": {},
   "outputs": [
    {
     "data": {
      "image/png": "[encoded data removed]",
      "text/plain": [
       "<Figure size 432x576 with 1 Axes>"
      ]
     },
     "metadata": {
      "needs_background": "light"
     },
     "output_type": "display_data"
    }
   ],
   "source": [
    "plt.figure(figsize=(6.0, 8.0))\n",
    "sb.scatterplot(data=df, x=\"angle\", y=\"time\");"
   ]
  },
  {
   "cell_type": "code",
   "execution_count": 5,
   "id": "7f884dc2-a144-460c-ab1e-e76574af474b",
   "metadata": {},
   "outputs": [
    {
     "data": {
      "image/png": "[encoded data removed]",
      "text/plain": [
       "<Figure size 432x288 with 1 Axes>"
      ]
     },
     "metadata": {
      "needs_background": "light"
     },
     "output_type": "display_data"
    }
   ],
   "source": [
    "df['max_intensity'] = df.apply(lambda x: max(x[\"intensities\"]), axis=1)\n",
    "sb.lineplot(data=df, x=\"angle\", y=\"max_intensity\");"
   ]
  },
  {
   "cell_type": "markdown",
   "id": "f5fd6efb-bae1-4225-98f3-6f3875a06483",
   "metadata": {},
   "source": [
    "## Grid map"
   ]
  },
  {
   "cell_type": "markdown",
   "id": "e9c9c6dd-054d-410a-8c55-41eec44d9d81",
   "metadata": {},
   "source": [
    "Sonar calibrated for:\n",
    "\n",
    "- 5 meters;\n",
    "- Bit length of $1.25 * 10^-2$ meters;\n",
    "- Angle step of $1.8º$.\n",
    "\n",
    "With leads to:\n",
    "\n",
    "- $\\frac{5.0}{1.25 * 10^-2} = 400$ - 400 bins per array;\n",
    "- $360º / 1.8º = 200$ - 200 arrays;"
   ]
  },
  {
   "cell_type": "code",
   "execution_count": 41,
   "id": "63dc5fb5",
   "metadata": {},
   "outputs": [
    {
     "data": {
      "text/plain": [
       "(1.800003, 200, 28)"
      ]
     },
     "execution_count": 41,
     "metadata": {},
     "output_type": "execute_result"
    }
   ],
   "source": [
    "# A Scan has multiple sweeps. Each sweep sends multiple beams in 360º\n",
    "angle_step = abs(df.iloc[1][\"angle\"] - df.iloc[0][\"angle\"])\n",
    "sweep_len = round(360 / angle_step)\n",
    "scan_len = round(len(df.index) / sweep_len)\n",
    "\n",
    "(angle_step, sweep_len, scan_len)"
   ]
  },
  {
   "cell_type": "code",
   "execution_count": 31,
   "id": "74bf7243",
   "metadata": {},
   "outputs": [
    {
     "data": {
      "text/html": [
       "<div>\n",
       "<style scoped>\n",
       "    .dataframe tbody tr th:only-of-type {\n",
       "        vertical-align: middle;\n",
       "    }\n",
       "\n",
       "    .dataframe tbody tr th {\n",
       "        vertical-align: top;\n",
       "    }\n",
       "\n",
       "    .dataframe thead th {\n",
       "        text-align: right;\n",
       "    }\n",
       "</style>\n",
       "<table border=\"1\" class=\"dataframe\">\n",
       "  <thead>\n",
       "    <tr style=\"text-align: right;\">\n",
       "      <th></th>\n",
       "      <th>time</th>\n",
       "      <th>angle</th>\n",
       "      <th>step_dist</th>\n",
       "      <th>intensities</th>\n",
       "      <th>max_intensity</th>\n",
       "    </tr>\n",
       "  </thead>\n",
       "  <tbody>\n",
       "    <tr>\n",
       "      <th>0</th>\n",
       "      <td>10.280058</td>\n",
       "      <td>180.000000</td>\n",
       "      <td>0.012531</td>\n",
       "      <td>[0, 0, 0, 0, 43, 68, 90, 106, 111, 108, 100, 9...</td>\n",
       "      <td>165</td>\n",
       "    </tr>\n",
       "    <tr>\n",
       "      <th>1</th>\n",
       "      <td>10.321921</td>\n",
       "      <td>181.800003</td>\n",
       "      <td>0.012531</td>\n",
       "      <td>[0, 0, 0, 17, 51, 73, 87, 106, 116, 117, 92, 9...</td>\n",
       "      <td>160</td>\n",
       "    </tr>\n",
       "    <tr>\n",
       "      <th>2</th>\n",
       "      <td>10.364880</td>\n",
       "      <td>183.600006</td>\n",
       "      <td>0.012531</td>\n",
       "      <td>[0, 0, 0, 11, 43, 63, 84, 106, 119, 119, 103, ...</td>\n",
       "      <td>157</td>\n",
       "    </tr>\n",
       "    <tr>\n",
       "      <th>3</th>\n",
       "      <td>10.408035</td>\n",
       "      <td>185.399994</td>\n",
       "      <td>0.012531</td>\n",
       "      <td>[0, 0, 0, 0, 55, 76, 94, 108, 113, 113, 100, 1...</td>\n",
       "      <td>153</td>\n",
       "    </tr>\n",
       "    <tr>\n",
       "      <th>4</th>\n",
       "      <td>10.451024</td>\n",
       "      <td>187.199997</td>\n",
       "      <td>0.012531</td>\n",
       "      <td>[0, 0, 0, 15, 44, 63, 78, 102, 113, 113, 109, ...</td>\n",
       "      <td>151</td>\n",
       "    </tr>\n",
       "    <tr>\n",
       "      <th>...</th>\n",
       "      <td>...</td>\n",
       "      <td>...</td>\n",
       "      <td>...</td>\n",
       "      <td>...</td>\n",
       "      <td>...</td>\n",
       "    </tr>\n",
       "    <tr>\n",
       "      <th>5599</th>\n",
       "      <td>249.791718</td>\n",
       "      <td>178.199997</td>\n",
       "      <td>0.012531</td>\n",
       "      <td>[0, 0, 0, 20, 51, 71, 89, 102, 105, 98, 113, 1...</td>\n",
       "      <td>165</td>\n",
       "    </tr>\n",
       "    <tr>\n",
       "      <th>5600</th>\n",
       "      <td>249.834717</td>\n",
       "      <td>180.000000</td>\n",
       "      <td>0.012531</td>\n",
       "      <td>[0, 0, 0, 27, 49, 68, 82, 103, 109, 111, 97, 9...</td>\n",
       "      <td>165</td>\n",
       "    </tr>\n",
       "    <tr>\n",
       "      <th>5601</th>\n",
       "      <td>249.877716</td>\n",
       "      <td>181.800003</td>\n",
       "      <td>0.012531</td>\n",
       "      <td>[0, 0, 0, 25, 57, 74, 86, 98, 111, 113, 106, 9...</td>\n",
       "      <td>164</td>\n",
       "    </tr>\n",
       "    <tr>\n",
       "      <th>5602</th>\n",
       "      <td>249.920715</td>\n",
       "      <td>183.600006</td>\n",
       "      <td>0.012531</td>\n",
       "      <td>[0, 0, 0, 11, 47, 71, 82, 105, 117, 119, 109, ...</td>\n",
       "      <td>159</td>\n",
       "    </tr>\n",
       "    <tr>\n",
       "      <th>5603</th>\n",
       "      <td>249.963699</td>\n",
       "      <td>185.399994</td>\n",
       "      <td>0.012531</td>\n",
       "      <td>[0, 0, 0, 0, 52, 70, 86, 102, 111, 113, 102, 1...</td>\n",
       "      <td>153</td>\n",
       "    </tr>\n",
       "  </tbody>\n",
       "</table>\n",
       "<p>5604 rows × 5 columns</p>\n",
       "</div>"
      ],
      "text/plain": [
       "            time       angle  step_dist  \\\n",
       "0      10.280058  180.000000   0.012531   \n",
       "1      10.321921  181.800003   0.012531   \n",
       "2      10.364880  183.600006   0.012531   \n",
       "3      10.408035  185.399994   0.012531   \n",
       "4      10.451024  187.199997   0.012531   \n",
       "...          ...         ...        ...   \n",
       "5599  249.791718  178.199997   0.012531   \n",
       "5600  249.834717  180.000000   0.012531   \n",
       "5601  249.877716  181.800003   0.012531   \n",
       "5602  249.920715  183.600006   0.012531   \n",
       "5603  249.963699  185.399994   0.012531   \n",
       "\n",
       "                                            intensities  max_intensity  \n",
       "0     [0, 0, 0, 0, 43, 68, 90, 106, 111, 108, 100, 9...            165  \n",
       "1     [0, 0, 0, 17, 51, 73, 87, 106, 116, 117, 92, 9...            160  \n",
       "2     [0, 0, 0, 11, 43, 63, 84, 106, 119, 119, 103, ...            157  \n",
       "3     [0, 0, 0, 0, 55, 76, 94, 108, 113, 113, 100, 1...            153  \n",
       "4     [0, 0, 0, 15, 44, 63, 78, 102, 113, 113, 109, ...            151  \n",
       "...                                                 ...            ...  \n",
       "5599  [0, 0, 0, 20, 51, 71, 89, 102, 105, 98, 113, 1...            165  \n",
       "5600  [0, 0, 0, 27, 49, 68, 82, 103, 109, 111, 97, 9...            165  \n",
       "5601  [0, 0, 0, 25, 57, 74, 86, 98, 111, 113, 106, 9...            164  \n",
       "5602  [0, 0, 0, 11, 47, 71, 82, 105, 117, 119, 109, ...            159  \n",
       "5603  [0, 0, 0, 0, 52, 70, 86, 102, 111, 113, 102, 1...            153  \n",
       "\n",
       "[5604 rows x 5 columns]"
      ]
     },
     "execution_count": 31,
     "metadata": {},
     "output_type": "execute_result"
    }
   ],
   "source": [
    "df"
   ]
  },
  {
   "cell_type": "code",
   "execution_count": 55,
   "id": "c8f728db-9bbc-44b3-ab97-4db6958692aa",
   "metadata": {},
   "outputs": [
    {
     "data": {
      "text/html": [
       "<div>\n",
       "<style scoped>\n",
       "    .dataframe tbody tr th:only-of-type {\n",
       "        vertical-align: middle;\n",
       "    }\n",
       "\n",
       "    .dataframe tbody tr th {\n",
       "        vertical-align: top;\n",
       "    }\n",
       "\n",
       "    .dataframe thead th {\n",
       "        text-align: right;\n",
       "    }\n",
       "</style>\n",
       "<table border=\"1\" class=\"dataframe\">\n",
       "  <thead>\n",
       "    <tr style=\"text-align: right;\">\n",
       "      <th></th>\n",
       "      <th>time</th>\n",
       "      <th>angle</th>\n",
       "      <th>step_dist</th>\n",
       "      <th>intensities</th>\n",
       "      <th>max_intensity</th>\n",
       "    </tr>\n",
       "  </thead>\n",
       "  <tbody>\n",
       "    <tr>\n",
       "      <th>0</th>\n",
       "      <td>10.280058</td>\n",
       "      <td>180.000000</td>\n",
       "      <td>0.012531</td>\n",
       "      <td>[0, 0, 0, 0, 43, 68, 90, 106, 111, 108, 100, 9...</td>\n",
       "      <td>165</td>\n",
       "    </tr>\n",
       "    <tr>\n",
       "      <th>1</th>\n",
       "      <td>10.321921</td>\n",
       "      <td>181.800003</td>\n",
       "      <td>0.012531</td>\n",
       "      <td>[0, 0, 0, 17, 51, 73, 87, 106, 116, 117, 92, 9...</td>\n",
       "      <td>160</td>\n",
       "    </tr>\n",
       "    <tr>\n",
       "      <th>2</th>\n",
       "      <td>10.364880</td>\n",
       "      <td>183.600006</td>\n",
       "      <td>0.012531</td>\n",
       "      <td>[0, 0, 0, 11, 43, 63, 84, 106, 119, 119, 103, ...</td>\n",
       "      <td>157</td>\n",
       "    </tr>\n",
       "    <tr>\n",
       "      <th>3</th>\n",
       "      <td>10.408035</td>\n",
       "      <td>185.399994</td>\n",
       "      <td>0.012531</td>\n",
       "      <td>[0, 0, 0, 0, 55, 76, 94, 108, 113, 113, 100, 1...</td>\n",
       "      <td>153</td>\n",
       "    </tr>\n",
       "    <tr>\n",
       "      <th>4</th>\n",
       "      <td>10.451024</td>\n",
       "      <td>187.199997</td>\n",
       "      <td>0.012531</td>\n",
       "      <td>[0, 0, 0, 15, 44, 63, 78, 102, 113, 113, 109, ...</td>\n",
       "      <td>151</td>\n",
       "    </tr>\n",
       "    <tr>\n",
       "      <th>...</th>\n",
       "      <td>...</td>\n",
       "      <td>...</td>\n",
       "      <td>...</td>\n",
       "      <td>...</td>\n",
       "      <td>...</td>\n",
       "    </tr>\n",
       "    <tr>\n",
       "      <th>195</th>\n",
       "      <td>18.621433</td>\n",
       "      <td>171.000000</td>\n",
       "      <td>0.012531</td>\n",
       "      <td>[0, 0, 0, 19, 38, 68, 86, 100, 102, 92, 105, 1...</td>\n",
       "      <td>168</td>\n",
       "    </tr>\n",
       "    <tr>\n",
       "      <th>196</th>\n",
       "      <td>18.664427</td>\n",
       "      <td>172.800003</td>\n",
       "      <td>0.012531</td>\n",
       "      <td>[0, 0, 0, 15, 41, 65, 84, 98, 102, 94, 95, 92,...</td>\n",
       "      <td>162</td>\n",
       "    </tr>\n",
       "    <tr>\n",
       "      <th>197</th>\n",
       "      <td>18.706421</td>\n",
       "      <td>174.600006</td>\n",
       "      <td>0.012531</td>\n",
       "      <td>[0, 0, 0, 22, 52, 73, 89, 100, 102, 95, 100, 9...</td>\n",
       "      <td>157</td>\n",
       "    </tr>\n",
       "    <tr>\n",
       "      <th>198</th>\n",
       "      <td>18.749483</td>\n",
       "      <td>176.399994</td>\n",
       "      <td>0.012531</td>\n",
       "      <td>[0, 0, 22, 47, 66, 79, 97, 105, 105, 86, 79, 8...</td>\n",
       "      <td>165</td>\n",
       "    </tr>\n",
       "    <tr>\n",
       "      <th>199</th>\n",
       "      <td>18.792442</td>\n",
       "      <td>178.199997</td>\n",
       "      <td>0.012531</td>\n",
       "      <td>[0, 0, 0, 20, 54, 79, 92, 98, 100, 82, 98, 94,...</td>\n",
       "      <td>165</td>\n",
       "    </tr>\n",
       "  </tbody>\n",
       "</table>\n",
       "<p>200 rows × 5 columns</p>\n",
       "</div>"
      ],
      "text/plain": [
       "          time       angle  step_dist  \\\n",
       "0    10.280058  180.000000   0.012531   \n",
       "1    10.321921  181.800003   0.012531   \n",
       "2    10.364880  183.600006   0.012531   \n",
       "3    10.408035  185.399994   0.012531   \n",
       "4    10.451024  187.199997   0.012531   \n",
       "..         ...         ...        ...   \n",
       "195  18.621433  171.000000   0.012531   \n",
       "196  18.664427  172.800003   0.012531   \n",
       "197  18.706421  174.600006   0.012531   \n",
       "198  18.749483  176.399994   0.012531   \n",
       "199  18.792442  178.199997   0.012531   \n",
       "\n",
       "                                           intensities  max_intensity  \n",
       "0    [0, 0, 0, 0, 43, 68, 90, 106, 111, 108, 100, 9...            165  \n",
       "1    [0, 0, 0, 17, 51, 73, 87, 106, 116, 117, 92, 9...            160  \n",
       "2    [0, 0, 0, 11, 43, 63, 84, 106, 119, 119, 103, ...            157  \n",
       "3    [0, 0, 0, 0, 55, 76, 94, 108, 113, 113, 100, 1...            153  \n",
       "4    [0, 0, 0, 15, 44, 63, 78, 102, 113, 113, 109, ...            151  \n",
       "..                                                 ...            ...  \n",
       "195  [0, 0, 0, 19, 38, 68, 86, 100, 102, 92, 105, 1...            168  \n",
       "196  [0, 0, 0, 15, 41, 65, 84, 98, 102, 94, 95, 92,...            162  \n",
       "197  [0, 0, 0, 22, 52, 73, 89, 100, 102, 95, 100, 9...            157  \n",
       "198  [0, 0, 22, 47, 66, 79, 97, 105, 105, 86, 79, 8...            165  \n",
       "199  [0, 0, 0, 20, 54, 79, 92, 98, 100, 82, 98, 94,...            165  \n",
       "\n",
       "[200 rows x 5 columns]"
      ]
     },
     "execution_count": 55,
     "metadata": {},
     "output_type": "execute_result"
    }
   ],
   "source": [
    "def getSweep(i):\n",
    "    # If the first beam is done at 365 and the second is done at 0 this breaks :), but is ok\n",
    "    return df.iloc[i*sweep_len: (i + 1) * sweep_len]\n",
    "\n",
    "first_scan = getSweep(0)\n",
    "\n",
    "first_scan"
   ]
  },
  {
   "cell_type": "markdown",
   "id": "9f0b78f9",
   "metadata": {},
   "source": [
    "## Export JSON"
   ]
  },
  {
   "cell_type": "code",
   "execution_count": 58,
   "id": "2b4e3eb9",
   "metadata": {},
   "outputs": [],
   "source": [
    "import json\n",
    "\n",
    "dic = {}\n",
    "# A Scan has multiple sweeps. Each sweep sends multiple beams in 360º\n",
    "dic[\"sweep_len\"] = sweep_len\n",
    "dic[\"scan_len\"] = scan_len\n",
    "dic[\"beam_len\"] = int(len(df.loc[0][\"intensities\"]))\n",
    "dic[\"step_dist\"] = float(df.loc[0][\"step_dist\"])\n",
    "\n",
    "sweeps = []\n",
    "for i in range(scan_len):\n",
    "    sweep = getSweep(i)\n",
    "    beams = []\n",
    "    for _, beam in sweep.iterrows():\n",
    "        if len(beam[\"intensities\"]) == dic[\"beam_len\"]:\n",
    "            beam_json = {\n",
    "                \"time\": beam[\"time\"],\n",
    "                \"angle\": beam[\"angle\"],\n",
    "                \"intensities\": beam[\"intensities\"]\n",
    "            }\n",
    "            beams.append(beam_json)\n",
    "    sweeps.append(beams)\n",
    "\n",
    "dic[\"sweeps\"] = sweeps\n",
    "with open('data.json', 'w') as f:\n",
    "    json.dump(dic, f)"
   ]
  },
  {
   "cell_type": "code",
   "execution_count": 62,
   "id": "51c41a8e",
   "metadata": {},
   "outputs": [
    {
     "data": {
      "text/plain": [
       "200"
      ]
     },
     "execution_count": 62,
     "metadata": {},
     "output_type": "execute_result"
    }
   ],
   "source": [
    "len(dic[\"sweeps\"][0])"
   ]
  },
  {
   "cell_type": "code",
   "execution_count": null,
   "id": "188d845e-55ef-4495-8f94-4ad2197e55f6",
   "metadata": {},
   "outputs": [],
   "source": [
    "def getMinMaxIntensity(scan):\n",
    "    minmax = scan[\"intensities\"].apply(lambda row: (min(row), max(row)))\n",
    "    mini = minmax[0][0]\n",
    "    maxi = minmax[0][1]\n",
    "    for mm in minmax:\n",
    "        if mini > mm[0]:\n",
    "            mini = mm[0]\n",
    "        if maxi < mm[1]:\n",
    "            maxi = mm[1]\n",
    "    return (mini, maxi)\n",
    "\n",
    "getMinMaxIntensity(first_scan)"
   ]
  },
  {
   "cell_type": "code",
   "execution_count": null,
   "id": "4ae36178-ea34-4ca9-811d-3981ca030ae6",
   "metadata": {},
   "outputs": [],
   "source": [
    "import matplotlib.image as mpimg\n",
    "import png\n",
    "\n",
    "def genPolarImg(scan, scale=1, outfile=\"polar.png\"):\n",
    "    img = []\n",
    "    for index, scanrow in scan.iterrows():\n",
    "        row = ()\n",
    "        for intensity in scanrow[\"intensities\"]:\n",
    "            pixel = intensity\n",
    "            row += (pixel,) * scale\n",
    "        for i in range(scale):\n",
    "            img.append(row)\n",
    "    \n",
    "    with open(outfile, \"wb+\") as f:\n",
    "        w = png.Writer(len(img[0]), len(img), greyscale=True)\n",
    "        w.write(f, img)\n",
    "    plt.imshow(mpimg.imread(outfile));\n",
    "\n",
    "genPolarImg(first_scan)"
   ]
  },
  {
   "cell_type": "code",
   "execution_count": null,
   "id": "a7332d92-6f37-4b42-b9c3-4fbec9c1979a",
   "metadata": {},
   "outputs": [],
   "source": [
    "from math import radians, cos, sin, ceil\n",
    "\n",
    "def genCartImg(scan, outfile=\"cartesian.png\"):\n",
    "    s = ceil(len(first_scan.iloc[0][\"intensities\"])) * 2\n",
    "    img_pre = [[(0, 0) for _ in range(s)] for _ in range(s)]\n",
    "    x0 = s//2\n",
    "    y0 = s//2\n",
    "    \n",
    "    # we need to keep count of the number of times a pixel is affected\n",
    "    # and then get the mean of the values\n",
    "    for index, scanrow in scan.iterrows():\n",
    "        base_angle = scanrow[\"angle\"]\n",
    "        for angle in np.arange(base_angle - 1.5, base_angle + 1.6, 0.1):\n",
    "            angle = radians(angle + 180)\n",
    "            for i, intensity in enumerate(scanrow[\"intensities\"]):\n",
    "                x = x0 + round(i * cos(angle))\n",
    "                y = y0 + round(i * sin(angle))\n",
    "                pixel_info = img_pre[y][x]\n",
    "                img_pre[y][x] = (pixel_info[0]+intensity, pixel_info[1]+1)\n",
    "            \n",
    "    img = [[0 for _ in range(s)] for _ in range(s)]\n",
    "    for y in range(s):\n",
    "        for x in range(s):\n",
    "            pixel_info = img_pre[y][x]\n",
    "            if pixel_info[1] != 0: # we only care about updated pixels\n",
    "                img[y][x] = round(pixel_info[0] / pixel_info[1])\n",
    "    \n",
    "    with open(outfile, \"wb+\") as f:\n",
    "        w = png.Writer(s, s, greyscale=True)\n",
    "        w.write(f, img)\n",
    "    plt.figure(figsize=(8.0, 8.0))\n",
    "    plt.imshow(mpimg.imread(outfile));\n",
    "\n",
    "genCartImg(first_scan)"
   ]
  },
  {
   "cell_type": "markdown",
   "id": "e79b7d21-c1a6-4130-a71b-8d1682e999fe",
   "metadata": {},
   "source": [
    "The sonar has a $3º$ horizontal beam => we consider each measure's angle to belong in the interval `[angle - 1.5º, angle + 1.5º]`."
   ]
  },
  {
   "cell_type": "code",
   "execution_count": null,
   "id": "4cb793b3-a7ed-420e-a0c9-c6396453f13c",
   "metadata": {},
   "outputs": [],
   "source": []
  }
 ],
 "metadata": {
  "kernelspec": {
   "display_name": "Python 3 (ipykernel)",
   "language": "python",
   "name": "python3"
  },
  "language_info": {
   "codemirror_mode": {
    "name": "ipython",
    "version": 3
   },
   "file_extension": ".py",
   "mimetype": "text/x-python",
   "name": "python",
   "nbconvert_exporter": "python",
   "pygments_lexer": "ipython3",
   "version": "3.10.4"
  }
 },
 "nbformat": 4,
 "nbformat_minor": 5
}
